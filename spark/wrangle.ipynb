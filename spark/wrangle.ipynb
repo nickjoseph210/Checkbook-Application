{
 "cells": [
  {
   "cell_type": "markdown",
   "metadata": {},
   "source": [
    "# Zach's Wrangling with Spark lecture"
   ]
  },
  {
   "cell_type": "code",
   "execution_count": 1,
   "metadata": {},
   "outputs": [],
   "source": [
    "import pyspark\n",
    "from pyspark.sql.functions import *"
   ]
  },
  {
   "cell_type": "code",
   "execution_count": 2,
   "metadata": {},
   "outputs": [],
   "source": [
    "# to get back the original sum function\n",
    "from builtins import sum as builtin_sum"
   ]
  },
  {
   "cell_type": "code",
   "execution_count": 3,
   "metadata": {},
   "outputs": [
    {
     "data": {
      "text/plain": [
       "<function pyspark.sql.functions._create_function.<locals>._(col)>"
      ]
     },
     "execution_count": 3,
     "metadata": {},
     "output_type": "execute_result"
    }
   ],
   "source": [
    "sum"
   ]
  },
  {
   "cell_type": "code",
   "execution_count": 4,
   "metadata": {},
   "outputs": [
    {
     "data": {
      "text/plain": [
       "15"
      ]
     },
     "execution_count": 4,
     "metadata": {},
     "output_type": "execute_result"
    }
   ],
   "source": [
    "builtin_sum([1, 2, 3, 4, 5])"
   ]
  },
  {
   "cell_type": "code",
   "execution_count": 5,
   "metadata": {},
   "outputs": [],
   "source": [
    "# This step could get very complicated\n",
    "spark = pyspark.sql.SparkSession.builder.getOrCreate()"
   ]
  },
  {
   "cell_type": "code",
   "execution_count": 6,
   "metadata": {},
   "outputs": [
    {
     "data": {
      "text/html": [
       "\n",
       "            <div>\n",
       "                <p><b>SparkSession - in-memory</b></p>\n",
       "                \n",
       "        <div>\n",
       "            <p><b>SparkContext</b></p>\n",
       "\n",
       "            <p><a href=\"http://192.168.1.8:4040\">Spark UI</a></p>\n",
       "\n",
       "            <dl>\n",
       "              <dt>Version</dt>\n",
       "                <dd><code>v2.4.6</code></dd>\n",
       "              <dt>Master</dt>\n",
       "                <dd><code>local[*]</code></dd>\n",
       "              <dt>AppName</dt>\n",
       "                <dd><code>pyspark-shell</code></dd>\n",
       "            </dl>\n",
       "        </div>\n",
       "        \n",
       "            </div>\n",
       "        "
      ],
      "text/plain": [
       "<pyspark.sql.session.SparkSession at 0x10ca74d90>"
      ]
     },
     "execution_count": 6,
     "metadata": {},
     "output_type": "execute_result"
    }
   ],
   "source": [
    "spark"
   ]
  },
  {
   "cell_type": "markdown",
   "metadata": {},
   "source": [
    "## Reading / Writing Data\n",
    "\n",
    "- spark.read.csv\n",
    "\n",
    "- spark.read.json\n",
    "\n",
    "These functions will produce a dataframe\n",
    "\n",
    "**Important Options**\n",
    "\n",
    "- inferSchema = tells spark to go through the data and correctly read the datatypes\n",
    "\n",
    "- (takes time, especially with a larger dataset)\n",
    "\n",
    "header=True\n",
    "\n",
    "Instead of inferSchema you could create a custom data schema.  Why?  For control of the datatypes / data structures in the df that's returned.  This speeds Spark up, AND programmatically documents my data structure / reasoning.  Instead of using MarkDown, we're doing it in Python\n",
    "\n",
    "**In the real world, we'll be setting our own schemas (per format in the curriculum), but for the sake of this course, we'll just be using 'inferSchema.'\n",
    "\n",
    "### Writing Data:\n",
    "\n",
    "- \"df.write.csv(filename)\"\n",
    "\n",
    "- \"df.read.csv(filename, header=True, inferSchema=True)\" (for the curriculum)"
   ]
  },
  {
   "cell_type": "markdown",
   "metadata": {},
   "source": [
    "## Data Prep"
   ]
  },
  {
   "cell_type": "code",
   "execution_count": 7,
   "metadata": {},
   "outputs": [],
   "source": [
    "df = spark.read.csv(\"case.csv\", inferSchema=True, header=True)"
   ]
  },
  {
   "cell_type": "code",
   "execution_count": 8,
   "metadata": {},
   "outputs": [
    {
     "name": "stdout",
     "output_type": "stream",
     "text": [
      "-RECORD 0-----------------------------------------------------\n",
      " case_id              | 1014127332                            \n",
      " case_opened_date     | 1/1/18 0:42                           \n",
      " case_closed_date     | 1/1/18 12:29                          \n",
      " SLA_due_date         | 9/26/20 0:42                          \n",
      " case_late            | NO                                    \n",
      " num_days_late        | -998.5087616000001                    \n",
      " case_closed          | YES                                   \n",
      " dept_division        | Field Operations                      \n",
      " service_request_type | Stray Animal                          \n",
      " SLA_days             | 999.0                                 \n",
      " case_status          | Closed                                \n",
      " source_id            | svcCRMLS                              \n",
      " request_address      | 2315  EL PASO ST, San Antonio, 78207  \n",
      " council_district     | 5                                     \n",
      "-RECORD 1-----------------------------------------------------\n",
      " case_id              | 1014127333                            \n",
      " case_opened_date     | 1/1/18 0:46                           \n",
      " case_closed_date     | 1/3/18 8:11                           \n",
      " SLA_due_date         | 1/5/18 8:30                           \n",
      " case_late            | NO                                    \n",
      " num_days_late        | -2.0126041669999997                   \n",
      " case_closed          | YES                                   \n",
      " dept_division        | Storm Water                           \n",
      " service_request_type | Removal Of Obstruction                \n",
      " SLA_days             | 4.322222222                           \n",
      " case_status          | Closed                                \n",
      " source_id            | svcCRMSS                              \n",
      " request_address      | 2215  GOLIAD RD, San Antonio, 78223   \n",
      " council_district     | 3                                     \n",
      "-RECORD 2-----------------------------------------------------\n",
      " case_id              | 1014127334                            \n",
      " case_opened_date     | 1/1/18 0:48                           \n",
      " case_closed_date     | 1/2/18 7:57                           \n",
      " SLA_due_date         | 1/5/18 8:30                           \n",
      " case_late            | NO                                    \n",
      " num_days_late        | -3.022337963                          \n",
      " case_closed          | YES                                   \n",
      " dept_division        | Storm Water                           \n",
      " service_request_type | Removal Of Obstruction                \n",
      " SLA_days             | 4.320729167                           \n",
      " case_status          | Closed                                \n",
      " source_id            | svcCRMSS                              \n",
      " request_address      | 102  PALFREY ST W, San Antonio, 78223 \n",
      " council_district     | 3                                     \n",
      "-RECORD 3-----------------------------------------------------\n",
      " case_id              | 1014127335                            \n",
      " case_opened_date     | 1/1/18 1:29                           \n",
      " case_closed_date     | 1/2/18 8:13                           \n",
      " SLA_due_date         | 1/17/18 8:30                          \n",
      " case_late            | NO                                    \n",
      " num_days_late        | -15.01148148                          \n",
      " case_closed          | YES                                   \n",
      " dept_division        | Code Enforcement                      \n",
      " service_request_type | Front Or Side Yard Parking            \n",
      " SLA_days             | 16.29188657                           \n",
      " case_status          | Closed                                \n",
      " source_id            | svcCRMSS                              \n",
      " request_address      | 114  LA GARDE ST, San Antonio, 78223  \n",
      " council_district     | 3                                     \n",
      "-RECORD 4-----------------------------------------------------\n",
      " case_id              | 1014127336                            \n",
      " case_opened_date     | 1/1/18 1:34                           \n",
      " case_closed_date     | 1/1/18 13:29                          \n",
      " SLA_due_date         | 1/1/18 4:34                           \n",
      " case_late            | YES                                   \n",
      " num_days_late        | 0.37216435200000003                   \n",
      " case_closed          | YES                                   \n",
      " dept_division        | Field Operations                      \n",
      " service_request_type | Animal Cruelty(Critical)              \n",
      " SLA_days             | 0.125                                 \n",
      " case_status          | Closed                                \n",
      " source_id            | svcCRMSS                              \n",
      " request_address      | 734  CLEARVIEW DR, San Antonio, 78228 \n",
      " council_district     | 7                                     \n",
      "only showing top 5 rows\n",
      "\n"
     ]
    }
   ],
   "source": [
    "df.show(5, vertical=True, truncate=False)\n",
    "\n",
    "# 'SLA' = Service Level Agreement "
   ]
  },
  {
   "cell_type": "code",
   "execution_count": 9,
   "metadata": {},
   "outputs": [],
   "source": [
    "df = df.withColumnRenamed(\"SLA_due_date\", \"case_due_date\")"
   ]
  },
  {
   "cell_type": "code",
   "execution_count": 10,
   "metadata": {},
   "outputs": [
    {
     "name": "stdout",
     "output_type": "stream",
     "text": [
      "-RECORD 0------------------------------------\n",
      " case_id              | 1014127332           \n",
      " case_opened_date     | 1/1/18 0:42          \n",
      " case_closed_date     | 1/1/18 12:29         \n",
      " case_due_date        | 9/26/20 0:42         \n",
      " case_late            | NO                   \n",
      " num_days_late        | -998.5087616000001   \n",
      " case_closed          | YES                  \n",
      " dept_division        | Field Operations     \n",
      " service_request_type | Stray Animal         \n",
      " SLA_days             | 999.0                \n",
      " case_status          | Closed               \n",
      " source_id            | svcCRMLS             \n",
      " request_address      | 2315  EL PASO ST,... \n",
      " council_district     | 5                    \n",
      "only showing top 1 row\n",
      "\n"
     ]
    }
   ],
   "source": [
    "df.withColumnRenamed(\"SLA_due_date\", \"case_due_date\").show(1, vertical=True)\n",
    "\n",
    "# Shows that 'SLA_due_date' has been renamed with 'case_due_date:'"
   ]
  },
  {
   "cell_type": "code",
   "execution_count": 11,
   "metadata": {},
   "outputs": [
    {
     "name": "stdout",
     "output_type": "stream",
     "text": [
      "+---------+-----+------+\n",
      "|case_late|   NO|   YES|\n",
      "+---------+-----+------+\n",
      "|      YES| 6525| 87978|\n",
      "|       NO|11585|735616|\n",
      "+---------+-----+------+\n",
      "\n"
     ]
    }
   ],
   "source": [
    "# To make sure it's always a yes or no in case_closed:\n",
    "\n",
    "df.groupby(\"case_late\").pivot(\"case_closed\").count().show()"
   ]
  },
  {
   "cell_type": "code",
   "execution_count": 12,
   "metadata": {},
   "outputs": [
    {
     "name": "stdout",
     "output_type": "stream",
     "text": [
      "-RECORD 0------------------------------------\n",
      " case_id              | 1014127332           \n",
      " case_opened_date     | 1/1/18 0:42          \n",
      " case_closed_date     | 1/1/18 12:29         \n",
      " case_due_date        | 9/26/20 0:42         \n",
      " case_late            | false                \n",
      " num_days_late        | -998.5087616000001   \n",
      " case_closed          | YES                  \n",
      " dept_division        | Field Operations     \n",
      " service_request_type | Stray Animal         \n",
      " SLA_days             | 999.0                \n",
      " case_status          | Closed               \n",
      " source_id            | svcCRMLS             \n",
      " request_address      | 2315  EL PASO ST,... \n",
      " council_district     | 5                    \n",
      "only showing top 1 row\n",
      "\n"
     ]
    }
   ],
   "source": [
    "# .withColumn to transform columns\n",
    "df.withColumn('case_late', col('case_late') == 'YES').show(1, vertical=True)"
   ]
  },
  {
   "cell_type": "code",
   "execution_count": 13,
   "metadata": {},
   "outputs": [
    {
     "name": "stdout",
     "output_type": "stream",
     "text": [
      "-RECORD 0------------------------------------\n",
      " case_id              | 1014127332           \n",
      " case_opened_date     | 1/1/18 0:42          \n",
      " case_closed_date     | 1/1/18 12:29         \n",
      " case_due_date        | 9/26/20 0:42         \n",
      " case_late            | false                \n",
      " num_days_late        | -998.5087616000001   \n",
      " case_closed          | true                 \n",
      " dept_division        | Field Operations     \n",
      " service_request_type | Stray Animal         \n",
      " SLA_days             | 999.0                \n",
      " case_status          | Closed               \n",
      " source_id            | svcCRMLS             \n",
      " request_address      | 2315  EL PASO ST,... \n",
      " council_district     | 5                    \n",
      "-RECORD 1------------------------------------\n",
      " case_id              | 1014127333           \n",
      " case_opened_date     | 1/1/18 0:46          \n",
      " case_closed_date     | 1/3/18 8:11          \n",
      " case_due_date        | 1/5/18 8:30          \n",
      " case_late            | false                \n",
      " num_days_late        | -2.0126041669999997  \n",
      " case_closed          | true                 \n",
      " dept_division        | Storm Water          \n",
      " service_request_type | Removal Of Obstru... \n",
      " SLA_days             | 4.322222222          \n",
      " case_status          | Closed               \n",
      " source_id            | svcCRMSS             \n",
      " request_address      | 2215  GOLIAD RD, ... \n",
      " council_district     | 3                    \n",
      "only showing top 2 rows\n",
      "\n"
     ]
    }
   ],
   "source": [
    "# .withColumn to transform columns inplace\n",
    "df = (\n",
    "    df.withColumn('case_late', col('case_late') == 'YES')\n",
    "    .withColumn('case_closed', col('case_closed') == 'YES')\n",
    ")\n",
    "\n",
    "df.show(2, vertical=True)"
   ]
  },
  {
   "cell_type": "code",
   "execution_count": 14,
   "metadata": {},
   "outputs": [
    {
     "name": "stdout",
     "output_type": "stream",
     "text": [
      "+----------------+\n",
      "|council_district|\n",
      "+----------------+\n",
      "|               5|\n",
      "|               3|\n",
      "|               3|\n",
      "|               3|\n",
      "|               7|\n",
      "+----------------+\n",
      "only showing top 5 rows\n",
      "\n"
     ]
    }
   ],
   "source": [
    "df.select('council_district').show(5)"
   ]
  },
  {
   "cell_type": "code",
   "execution_count": 15,
   "metadata": {},
   "outputs": [
    {
     "name": "stdout",
     "output_type": "stream",
     "text": [
      "+----------------+------+\n",
      "|council_district| count|\n",
      "+----------------+------+\n",
      "|               1|119309|\n",
      "|               6| 74095|\n",
      "|               3|102706|\n",
      "|               5|114609|\n",
      "|               9| 40916|\n",
      "|               4| 93778|\n",
      "|               8| 42345|\n",
      "|               7| 72445|\n",
      "|              10| 62926|\n",
      "|               2|114745|\n",
      "|               0|  3830|\n",
      "+----------------+------+\n",
      "\n"
     ]
    }
   ],
   "source": [
    "df.groupby('council_district').count().show()"
   ]
  },
  {
   "cell_type": "markdown",
   "metadata": {},
   "source": [
    "**^^ Tells me that there's only districts 0-10, but loads of counts within each**"
   ]
  },
  {
   "cell_type": "code",
   "execution_count": 16,
   "metadata": {},
   "outputs": [
    {
     "name": "stdout",
     "output_type": "stream",
     "text": [
      "-RECORD 0------------------------------------\n",
      " case_id              | 1014127332           \n",
      " case_opened_date     | 1/1/18 0:42          \n",
      " case_closed_date     | 1/1/18 12:29         \n",
      " case_due_date        | 9/26/20 0:42         \n",
      " case_late            | false                \n",
      " num_days_late        | -998.5087616000001   \n",
      " case_closed          | true                 \n",
      " dept_division        | Field Operations     \n",
      " service_request_type | Stray Animal         \n",
      " SLA_days             | 999.0                \n",
      " case_status          | Closed               \n",
      " source_id            | svcCRMLS             \n",
      " request_address      | 2315  EL PASO ST,... \n",
      " council_district     | 5                    \n",
      "-RECORD 1------------------------------------\n",
      " case_id              | 1014127333           \n",
      " case_opened_date     | 1/1/18 0:46          \n",
      " case_closed_date     | 1/3/18 8:11          \n",
      " case_due_date        | 1/5/18 8:30          \n",
      " case_late            | false                \n",
      " num_days_late        | -2.0126041669999997  \n",
      " case_closed          | true                 \n",
      " dept_division        | Storm Water          \n",
      " service_request_type | Removal Of Obstru... \n",
      " SLA_days             | 4.322222222          \n",
      " case_status          | Closed               \n",
      " source_id            | svcCRMSS             \n",
      " request_address      | 2215  GOLIAD RD, ... \n",
      " council_district     | 3                    \n",
      "-RECORD 2------------------------------------\n",
      " case_id              | 1014127334           \n",
      " case_opened_date     | 1/1/18 0:48          \n",
      " case_closed_date     | 1/2/18 7:57          \n",
      " case_due_date        | 1/5/18 8:30          \n",
      " case_late            | false                \n",
      " num_days_late        | -3.022337963         \n",
      " case_closed          | true                 \n",
      " dept_division        | Storm Water          \n",
      " service_request_type | Removal Of Obstru... \n",
      " SLA_days             | 4.320729167          \n",
      " case_status          | Closed               \n",
      " source_id            | svcCRMSS             \n",
      " request_address      | 102  PALFREY ST W... \n",
      " council_district     | 3                    \n",
      "-RECORD 3------------------------------------\n",
      " case_id              | 1014127335           \n",
      " case_opened_date     | 1/1/18 1:29          \n",
      " case_closed_date     | 1/2/18 8:13          \n",
      " case_due_date        | 1/17/18 8:30         \n",
      " case_late            | false                \n",
      " num_days_late        | -15.01148148         \n",
      " case_closed          | true                 \n",
      " dept_division        | Code Enforcement     \n",
      " service_request_type | Front Or Side Yar... \n",
      " SLA_days             | 16.29188657          \n",
      " case_status          | Closed               \n",
      " source_id            | svcCRMSS             \n",
      " request_address      | 114  LA GARDE ST,... \n",
      " council_district     | 3                    \n",
      "-RECORD 4------------------------------------\n",
      " case_id              | 1014127336           \n",
      " case_opened_date     | 1/1/18 1:34          \n",
      " case_closed_date     | 1/1/18 13:29         \n",
      " case_due_date        | 1/1/18 4:34          \n",
      " case_late            | true                 \n",
      " num_days_late        | 0.37216435200000003  \n",
      " case_closed          | true                 \n",
      " dept_division        | Field Operations     \n",
      " service_request_type | Animal Cruelty(Cr... \n",
      " SLA_days             | 0.125                \n",
      " case_status          | Closed               \n",
      " source_id            | svcCRMSS             \n",
      " request_address      | 734  CLEARVIEW DR... \n",
      " council_district     | 7                    \n",
      "only showing top 5 rows\n",
      "\n"
     ]
    }
   ],
   "source": [
    "df.show(5, vertical=True)"
   ]
  },
  {
   "cell_type": "code",
   "execution_count": 17,
   "metadata": {},
   "outputs": [],
   "source": [
    "df = df.withColumn('council_district', format_string('%04d', col('council_district')))"
   ]
  },
  {
   "cell_type": "code",
   "execution_count": 18,
   "metadata": {},
   "outputs": [
    {
     "name": "stdout",
     "output_type": "stream",
     "text": [
      "+----------------+----------------+-------------+\n",
      "|case_opened_date|case_closed_date|case_due_date|\n",
      "+----------------+----------------+-------------+\n",
      "|     1/1/18 0:42|    1/1/18 12:29| 9/26/20 0:42|\n",
      "|     1/1/18 0:46|     1/3/18 8:11|  1/5/18 8:30|\n",
      "|     1/1/18 0:48|     1/2/18 7:57|  1/5/18 8:30|\n",
      "|     1/1/18 1:29|     1/2/18 8:13| 1/17/18 8:30|\n",
      "|     1/1/18 1:34|    1/1/18 13:29|  1/1/18 4:34|\n",
      "|     1/1/18 6:28|    1/1/18 14:38| 1/31/18 8:30|\n",
      "|     1/1/18 6:57|    1/2/18 15:32| 1/17/18 8:30|\n",
      "|     1/1/18 6:58|    1/2/18 15:32| 1/17/18 8:30|\n",
      "|     1/1/18 6:58|    1/2/18 15:32| 1/17/18 8:30|\n",
      "|     1/1/18 6:59|    1/2/18 15:32| 1/17/18 8:30|\n",
      "|     1/1/18 7:00|    1/2/18 15:32| 1/17/18 8:30|\n",
      "|     1/1/18 7:02|    1/2/18 15:32| 1/17/18 8:30|\n",
      "|     1/1/18 7:02|    1/2/18 15:33| 1/17/18 8:30|\n",
      "|     1/1/18 7:03|    1/2/18 15:32| 1/17/18 8:30|\n",
      "|     1/1/18 7:04|    1/2/18 15:33| 1/17/18 8:30|\n",
      "|     1/1/18 7:04|    1/2/18 15:33| 1/17/18 8:30|\n",
      "|     1/1/18 7:05|    1/2/18 15:33| 1/17/18 8:30|\n",
      "|     1/1/18 7:06|    1/2/18 15:33| 1/17/18 8:30|\n",
      "|     1/1/18 7:06|    1/2/18 15:33| 1/17/18 8:30|\n",
      "|     1/1/18 7:07|    1/2/18 15:33| 1/17/18 8:30|\n",
      "+----------------+----------------+-------------+\n",
      "only showing top 20 rows\n",
      "\n"
     ]
    }
   ],
   "source": [
    "df.select('case_opened_date', 'case_closed_date', 'case_due_date').show()"
   ]
  },
  {
   "cell_type": "markdown",
   "metadata": {},
   "source": [
    "### Java SimpleDateFormat"
   ]
  },
  {
   "cell_type": "code",
   "execution_count": 19,
   "metadata": {},
   "outputs": [],
   "source": [
    "df = (\n",
    "    df.withColumn('case_opened_date', to_timestamp(col('case_opened_date'), 'M/d/yy H:mm'))\n",
    "    .withColumn('case_closed_date', to_timestamp(col('case_closed_date'), 'M/d/yy H:mm'))\n",
    "    .withColumn('case_due_date', to_timestamp(col('case_due_date'), 'M/d/yy H:mm'))\n",
    ")"
   ]
  },
  {
   "cell_type": "code",
   "execution_count": 20,
   "metadata": {},
   "outputs": [
    {
     "name": "stdout",
     "output_type": "stream",
     "text": [
      "-RECORD 0------------------------------------\n",
      " case_id              | 1014127332           \n",
      " case_opened_date     | 2018-01-01 00:42:00  \n",
      " case_closed_date     | 2018-01-01 12:29:00  \n",
      " case_due_date        | 2020-09-26 00:42:00  \n",
      " case_late            | false                \n",
      " num_days_late        | -998.5087616000001   \n",
      " case_closed          | true                 \n",
      " dept_division        | Field Operations     \n",
      " service_request_type | Stray Animal         \n",
      " SLA_days             | 999.0                \n",
      " case_status          | Closed               \n",
      " source_id            | svcCRMLS             \n",
      " request_address      | 2315  EL PASO ST,... \n",
      " council_district     | 0005                 \n",
      "-RECORD 1------------------------------------\n",
      " case_id              | 1014127333           \n",
      " case_opened_date     | 2018-01-01 00:46:00  \n",
      " case_closed_date     | 2018-01-03 08:11:00  \n",
      " case_due_date        | 2018-01-05 08:30:00  \n",
      " case_late            | false                \n",
      " num_days_late        | -2.0126041669999997  \n",
      " case_closed          | true                 \n",
      " dept_division        | Storm Water          \n",
      " service_request_type | Removal Of Obstru... \n",
      " SLA_days             | 4.322222222          \n",
      " case_status          | Closed               \n",
      " source_id            | svcCRMSS             \n",
      " request_address      | 2215  GOLIAD RD, ... \n",
      " council_district     | 0003                 \n",
      "-RECORD 2------------------------------------\n",
      " case_id              | 1014127334           \n",
      " case_opened_date     | 2018-01-01 00:48:00  \n",
      " case_closed_date     | 2018-01-02 07:57:00  \n",
      " case_due_date        | 2018-01-05 08:30:00  \n",
      " case_late            | false                \n",
      " num_days_late        | -3.022337963         \n",
      " case_closed          | true                 \n",
      " dept_division        | Storm Water          \n",
      " service_request_type | Removal Of Obstru... \n",
      " SLA_days             | 4.320729167          \n",
      " case_status          | Closed               \n",
      " source_id            | svcCRMSS             \n",
      " request_address      | 102  PALFREY ST W... \n",
      " council_district     | 0003                 \n",
      "only showing top 3 rows\n",
      "\n"
     ]
    }
   ],
   "source": [
    "df.show(3, vertical=True)"
   ]
  },
  {
   "cell_type": "code",
   "execution_count": 21,
   "metadata": {},
   "outputs": [
    {
     "data": {
      "text/plain": [
       "[('case_id', 'int'),\n",
       " ('case_opened_date', 'timestamp'),\n",
       " ('case_closed_date', 'timestamp'),\n",
       " ('case_due_date', 'timestamp'),\n",
       " ('case_late', 'boolean'),\n",
       " ('num_days_late', 'double'),\n",
       " ('case_closed', 'boolean'),\n",
       " ('dept_division', 'string'),\n",
       " ('service_request_type', 'string'),\n",
       " ('SLA_days', 'double'),\n",
       " ('case_status', 'string'),\n",
       " ('source_id', 'string'),\n",
       " ('request_address', 'string'),\n",
       " ('council_district', 'string')]"
      ]
     },
     "execution_count": 21,
     "metadata": {},
     "output_type": "execute_result"
    }
   ],
   "source": [
    "df.dtypes"
   ]
  },
  {
   "cell_type": "code",
   "execution_count": 22,
   "metadata": {},
   "outputs": [
    {
     "data": {
      "text/plain": [
       "'a   b    c'"
      ]
     },
     "execution_count": 22,
     "metadata": {},
     "output_type": "execute_result"
    }
   ],
   "source": [
    "'    a   b    c    '.strip()"
   ]
  },
  {
   "cell_type": "code",
   "execution_count": 23,
   "metadata": {},
   "outputs": [
    {
     "name": "stdout",
     "output_type": "stream",
     "text": [
      "+----------------------------------------+\n",
      "|request_address                         |\n",
      "+----------------------------------------+\n",
      "|2315  el paso st, san antonio, 78207    |\n",
      "|2215  goliad rd, san antonio, 78223     |\n",
      "|102  palfrey st w, san antonio, 78223   |\n",
      "|114  la garde st, san antonio, 78223    |\n",
      "|734  clearview dr, san antonio, 78228   |\n",
      "|bandera rd and bresnahan                |\n",
      "|10133  figaro canyon, san antonio, 78251|\n",
      "|10133  figaro canyon, san antonio, 78251|\n",
      "|10133  figaro canyon, san antonio, 78251|\n",
      "|10133  figaro canyon, san antonio, 78251|\n",
      "|10133  figaro canyon, san antonio, 78251|\n",
      "|10133  figaro canyon, san antonio, 78251|\n",
      "|10129  boxing pass, san antonio, 78251  |\n",
      "|10129  boxing pass, san antonio, 78251  |\n",
      "|10129  boxing pass, san antonio, 78251  |\n",
      "|834  barrel point, san antonio, 78251   |\n",
      "|834  barrel point, san antonio, 78251   |\n",
      "|834  barrel point, san antonio, 78251   |\n",
      "|834  barrel point, san antonio, 78251   |\n",
      "|834  barrel point, san antonio, 78251   |\n",
      "+----------------------------------------+\n",
      "only showing top 20 rows\n",
      "\n"
     ]
    }
   ],
   "source": [
    "df = df.withColumn('request_address', lower(trim(col('request_address'))))\n",
    "\n",
    "df.select('request_address').show(truncate=False)"
   ]
  },
  {
   "cell_type": "code",
   "execution_count": 24,
   "metadata": {},
   "outputs": [
    {
     "name": "stdout",
     "output_type": "stream",
     "text": [
      "+-------+----------------------------------------+\n",
      "|zipcode|request_address                         |\n",
      "+-------+----------------------------------------+\n",
      "|78207  |2315  el paso st, san antonio, 78207    |\n",
      "|78223  |2215  goliad rd, san antonio, 78223     |\n",
      "|78223  |102  palfrey st w, san antonio, 78223   |\n",
      "|78223  |114  la garde st, san antonio, 78223    |\n",
      "|78228  |734  clearview dr, san antonio, 78228   |\n",
      "|       |bandera rd and bresnahan                |\n",
      "|78251  |10133  figaro canyon, san antonio, 78251|\n",
      "|78251  |10133  figaro canyon, san antonio, 78251|\n",
      "|78251  |10133  figaro canyon, san antonio, 78251|\n",
      "|78251  |10133  figaro canyon, san antonio, 78251|\n",
      "|78251  |10133  figaro canyon, san antonio, 78251|\n",
      "|78251  |10133  figaro canyon, san antonio, 78251|\n",
      "|78251  |10129  boxing pass, san antonio, 78251  |\n",
      "|78251  |10129  boxing pass, san antonio, 78251  |\n",
      "|78251  |10129  boxing pass, san antonio, 78251  |\n",
      "|78251  |834  barrel point, san antonio, 78251   |\n",
      "|78251  |834  barrel point, san antonio, 78251   |\n",
      "|78251  |834  barrel point, san antonio, 78251   |\n",
      "|78251  |834  barrel point, san antonio, 78251   |\n",
      "|78251  |834  barrel point, san antonio, 78251   |\n",
      "+-------+----------------------------------------+\n",
      "only showing top 20 rows\n",
      "\n"
     ]
    }
   ],
   "source": [
    "(\n",
    "    # 0 is the capture group, 0th capture group is the entire match\n",
    "    df.withColumn('zipcode', regexp_extract(col('request_address'), r'\\d+$', 0))\n",
    "    .select('zipcode', 'request_address')\n",
    "    .show(truncate=False)\n",
    ")"
   ]
  },
  {
   "cell_type": "code",
   "execution_count": 25,
   "metadata": {},
   "outputs": [
    {
     "name": "stdout",
     "output_type": "stream",
     "text": [
      "-RECORD 0-----------------------------------------------------\n",
      " case_id              | 1014127332                            \n",
      " case_opened_date     | 2018-01-01 00:42:00                   \n",
      " case_closed_date     | 2018-01-01 12:29:00                   \n",
      " case_due_date        | 2020-09-26 00:42:00                   \n",
      " case_late            | false                                 \n",
      " num_days_late        | -998.5087616000001                    \n",
      " case_closed          | true                                  \n",
      " dept_division        | Field Operations                      \n",
      " service_request_type | Stray Animal                          \n",
      " SLA_days             | 999.0                                 \n",
      " case_status          | Closed                                \n",
      " source_id            | svcCRMLS                              \n",
      " request_address      | 2315  el paso st, san antonio, 78207  \n",
      " council_district     | 0005                                  \n",
      " zipcode              | 78207                                 \n",
      "-RECORD 1-----------------------------------------------------\n",
      " case_id              | 1014127333                            \n",
      " case_opened_date     | 2018-01-01 00:46:00                   \n",
      " case_closed_date     | 2018-01-03 08:11:00                   \n",
      " case_due_date        | 2018-01-05 08:30:00                   \n",
      " case_late            | false                                 \n",
      " num_days_late        | -2.0126041669999997                   \n",
      " case_closed          | true                                  \n",
      " dept_division        | Storm Water                           \n",
      " service_request_type | Removal Of Obstruction                \n",
      " SLA_days             | 4.322222222                           \n",
      " case_status          | Closed                                \n",
      " source_id            | svcCRMSS                              \n",
      " request_address      | 2215  goliad rd, san antonio, 78223   \n",
      " council_district     | 0003                                  \n",
      " zipcode              | 78223                                 \n",
      "-RECORD 2-----------------------------------------------------\n",
      " case_id              | 1014127334                            \n",
      " case_opened_date     | 2018-01-01 00:48:00                   \n",
      " case_closed_date     | 2018-01-02 07:57:00                   \n",
      " case_due_date        | 2018-01-05 08:30:00                   \n",
      " case_late            | false                                 \n",
      " num_days_late        | -3.022337963                          \n",
      " case_closed          | true                                  \n",
      " dept_division        | Storm Water                           \n",
      " service_request_type | Removal Of Obstruction                \n",
      " SLA_days             | 4.320729167                           \n",
      " case_status          | Closed                                \n",
      " source_id            | svcCRMSS                              \n",
      " request_address      | 102  palfrey st w, san antonio, 78223 \n",
      " council_district     | 0003                                  \n",
      " zipcode              | 78223                                 \n",
      "only showing top 3 rows\n",
      "\n"
     ]
    }
   ],
   "source": [
    "df = df.withColumn('zipcode', regexp_extract(col('request_address'), r'\\d+$', 0))\n",
    "\n",
    "df.show(3, vertical=True, truncate=False)"
   ]
  },
  {
   "cell_type": "code",
   "execution_count": 26,
   "metadata": {},
   "outputs": [
    {
     "name": "stdout",
     "output_type": "stream",
     "text": [
      "+-------------------+----------------+--------+--------------+-------------+\n",
      "|   case_opened_date|case_closed_date|case_age|days_to_closed|case_lifetime|\n",
      "+-------------------+----------------+--------+--------------+-------------+\n",
      "|2018-01-02 09:39:00|            null|     889|          null|          889|\n",
      "|2018-01-02 10:49:00|            null|     889|          null|          889|\n",
      "|2018-01-02 13:45:00|            null|     889|          null|          889|\n",
      "|2018-01-02 14:09:00|            null|     889|          null|          889|\n",
      "|2018-01-02 14:34:00|            null|     889|          null|          889|\n",
      "|2018-01-02 15:22:00|            null|     889|          null|          889|\n",
      "|2018-01-02 15:58:00|            null|     889|          null|          889|\n",
      "|2018-01-03 08:04:00|            null|     888|          null|          888|\n",
      "|2018-01-03 09:18:00|            null|     888|          null|          888|\n",
      "|2018-01-03 09:26:00|            null|     888|          null|          888|\n",
      "|2018-01-03 09:49:00|            null|     888|          null|          888|\n",
      "|2018-01-03 10:03:00|            null|     888|          null|          888|\n",
      "|2018-01-03 10:51:00|            null|     888|          null|          888|\n",
      "|2018-01-03 11:42:00|            null|     888|          null|          888|\n",
      "|2018-01-03 11:47:00|            null|     888|          null|          888|\n",
      "|2018-01-03 12:35:00|            null|     888|          null|          888|\n",
      "|2018-01-03 14:41:00|            null|     888|          null|          888|\n",
      "|2018-01-03 15:18:00|            null|     888|          null|          888|\n",
      "|2018-01-03 15:37:00|            null|     888|          null|          888|\n",
      "|2018-01-03 15:39:00|            null|     888|          null|          888|\n",
      "+-------------------+----------------+--------+--------------+-------------+\n",
      "only showing top 20 rows\n",
      "\n"
     ]
    }
   ],
   "source": [
    "(\n",
    "    df.withColumn('case_age', datediff(current_timestamp(), 'case_opened_date'))\n",
    "    .withColumn('days_to_closed', datediff('case_closed_date', 'case_opened_date'))\n",
    "    .withColumn('case_lifetime', when(col('case_closed'), col('days_to_closed')).otherwise(col('case_age')))\n",
    "    .filter(~ col('case_closed'))\n",
    "    .select('case_opened_date', 'case_closed_date', 'case_age', 'days_to_closed', 'case_lifetime')\n",
    "    .show()\n",
    ")"
   ]
  },
  {
   "cell_type": "code",
   "execution_count": 27,
   "metadata": {},
   "outputs": [
    {
     "name": "stdout",
     "output_type": "stream",
     "text": [
      "-RECORD 0------------------------------------\n",
      " case_id              | 1014127332           \n",
      " case_opened_date     | 2018-01-01 00:42:00  \n",
      " case_closed_date     | 2018-01-01 12:29:00  \n",
      " case_due_date        | 2020-09-26 00:42:00  \n",
      " case_late            | false                \n",
      " num_days_late        | -998.5087616000001   \n",
      " case_closed          | true                 \n",
      " dept_division        | Field Operations     \n",
      " service_request_type | Stray Animal         \n",
      " SLA_days             | 999.0                \n",
      " case_status          | Closed               \n",
      " source_id            | svcCRMLS             \n",
      " request_address      | 2315  el paso st,... \n",
      " council_district     | 0005                 \n",
      " zipcode              | 78207                \n",
      " case_lifetime        | 0                    \n",
      "-RECORD 1------------------------------------\n",
      " case_id              | 1014127333           \n",
      " case_opened_date     | 2018-01-01 00:46:00  \n",
      " case_closed_date     | 2018-01-03 08:11:00  \n",
      " case_due_date        | 2018-01-05 08:30:00  \n",
      " case_late            | false                \n",
      " num_days_late        | -2.0126041669999997  \n",
      " case_closed          | true                 \n",
      " dept_division        | Storm Water          \n",
      " service_request_type | Removal Of Obstru... \n",
      " SLA_days             | 4.322222222          \n",
      " case_status          | Closed               \n",
      " source_id            | svcCRMSS             \n",
      " request_address      | 2215  goliad rd, ... \n",
      " council_district     | 0003                 \n",
      " zipcode              | 78223                \n",
      " case_lifetime        | 2                    \n",
      "-RECORD 2------------------------------------\n",
      " case_id              | 1014127334           \n",
      " case_opened_date     | 2018-01-01 00:48:00  \n",
      " case_closed_date     | 2018-01-02 07:57:00  \n",
      " case_due_date        | 2018-01-05 08:30:00  \n",
      " case_late            | false                \n",
      " num_days_late        | -3.022337963         \n",
      " case_closed          | true                 \n",
      " dept_division        | Storm Water          \n",
      " service_request_type | Removal Of Obstru... \n",
      " SLA_days             | 4.320729167          \n",
      " case_status          | Closed               \n",
      " source_id            | svcCRMSS             \n",
      " request_address      | 102  palfrey st w... \n",
      " council_district     | 0003                 \n",
      " zipcode              | 78223                \n",
      " case_lifetime        | 1                    \n",
      "only showing top 3 rows\n",
      "\n"
     ]
    }
   ],
   "source": [
    "df = (\n",
    "    df.withColumn('case_age', datediff(current_timestamp(), 'case_opened_date'))\n",
    "    .withColumn('days_to_closed', datediff('case_closed_date', 'case_opened_date'))\n",
    "    .withColumn('case_lifetime', when(col('case_closed'), col('days_to_closed')).otherwise(col('case_age')))\n",
    "    .drop('case_age', 'days_to_closed')\n",
    ")\n",
    "\n",
    "df.show(3, vertical=True)"
   ]
  },
  {
   "cell_type": "code",
   "execution_count": 28,
   "metadata": {},
   "outputs": [
    {
     "name": "stdout",
     "output_type": "stream",
     "text": [
      "-RECORD 0------------------------------------\n",
      " case_id              | 1014127410           \n",
      " case_opened_date     | 2018-01-01 10:13:00  \n",
      " case_closed_date     | 2018-02-21 20:06:00  \n",
      " case_due_date        | 2018-01-06 10:13:00  \n",
      " case_late            | true                 \n",
      " num_days_late        | 46.41153935          \n",
      " case_closed          | true                 \n",
      " dept_division        | Field Operations     \n",
      " service_request_type | Animal Neglect       \n",
      " SLA_days             | 5.0                  \n",
      " case_status          | Closed               \n",
      " source_id            | ns16326              \n",
      " request_address      | 339  brandywine a... \n",
      " council_district     | 0007                 \n",
      " zipcode              | 78228                \n",
      " case_lifetime        | 51                   \n",
      "-RECORD 1------------------------------------\n",
      " case_id              | 1014127721           \n",
      " case_opened_date     | 2018-01-01 18:13:00  \n",
      " case_closed_date     | 2018-01-02 08:20:00  \n",
      " case_due_date        | 2018-03-07 08:30:00  \n",
      " case_late            | false                \n",
      " num_days_late        | -64.0069213          \n",
      " case_closed          | true                 \n",
      " dept_division        | Code Enforcement     \n",
      " service_request_type | Overgrown Yard/Trash \n",
      " SLA_days             | 64.59504629999999    \n",
      " case_status          | Closed               \n",
      " source_id            | svcCRMSS             \n",
      " request_address      | 3007  military dr... \n",
      " council_district     | 0003                 \n",
      " zipcode              | 78223                \n",
      " case_lifetime        | 1                    \n",
      "-RECORD 2------------------------------------\n",
      " case_id              | 1014127785           \n",
      " case_opened_date     | 2018-01-02 00:23:00  \n",
      " case_closed_date     | 2018-01-02 08:18:00  \n",
      " case_due_date        | 2018-01-02 03:23:00  \n",
      " case_late            | true                 \n",
      " num_days_late        | 0.204571759          \n",
      " case_closed          | true                 \n",
      " dept_division        | Field Operations     \n",
      " service_request_type | Animal Cruelty(Cr... \n",
      " SLA_days             | 0.125                \n",
      " case_status          | Closed               \n",
      " source_id            | svcCRMSS             \n",
      " request_address      | 11110  woodridge ... \n",
      " council_district     | 0008                 \n",
      " zipcode              | 78249                \n",
      " case_lifetime        | 0                    \n",
      "-RECORD 3------------------------------------\n",
      " case_id              | 1014128279           \n",
      " case_opened_date     | 2018-01-02 09:18:00  \n",
      " case_closed_date     | 2018-01-09 15:56:00  \n",
      " case_due_date        | 2018-01-09 09:18:00  \n",
      " case_late            | true                 \n",
      " num_days_late        | 0.27622685199999997  \n",
      " case_closed          | true                 \n",
      " dept_division        | Waste Collection     \n",
      " service_request_type | Damaged Cart         \n",
      " SLA_days             | 7.0                  \n",
      " case_status          | Closed               \n",
      " source_id            | rs16746              \n",
      " request_address      | 555  marquette, s... \n",
      " council_district     | 0007                 \n",
      " zipcode              | 78228                \n",
      " case_lifetime        | 7                    \n",
      "-RECORD 4------------------------------------\n",
      " case_id              | 1014129242           \n",
      " case_opened_date     | 2018-01-02 11:47:00  \n",
      " case_closed_date     | 2018-01-02 12:20:00  \n",
      " case_due_date        | 2018-01-04 11:47:00  \n",
      " case_late            | false                \n",
      " num_days_late        | -1.9774074069999998  \n",
      " case_closed          | true                 \n",
      " dept_division        | Miscellaneous        \n",
      " service_request_type | Dead Animal - Misc   \n",
      " SLA_days             | 2.0                  \n",
      " case_status          | Closed               \n",
      " source_id            | 139344               \n",
      " request_address      | 1254  schley ave,... \n",
      " council_district     | 0003                 \n",
      " zipcode              | 78210                \n",
      " case_lifetime        | 0                    \n",
      "only showing top 5 rows\n",
      "\n"
     ]
    }
   ],
   "source": [
    "df.sample(fraction=.01).show(5, vertical=True)"
   ]
  },
  {
   "cell_type": "markdown",
   "metadata": {},
   "source": [
    "### Using the 'Dept' csv file"
   ]
  },
  {
   "cell_type": "code",
   "execution_count": 29,
   "metadata": {},
   "outputs": [
    {
     "name": "stdout",
     "output_type": "stream",
     "text": [
      "+--------------------+--------------------+----------------------+-------------------+\n",
      "|       dept_division|           dept_name|standardized_dept_name|dept_subject_to_SLA|\n",
      "+--------------------+--------------------+----------------------+-------------------+\n",
      "|     311 Call Center|    Customer Service|      Customer Service|                YES|\n",
      "|               Brush|Solid Waste Manag...|           Solid Waste|                YES|\n",
      "|     Clean and Green|Parks and Recreation|    Parks & Recreation|                YES|\n",
      "|Clean and Green N...|Parks and Recreation|    Parks & Recreation|                YES|\n",
      "|    Code Enforcement|Code Enforcement ...|  DSD/Code Enforcement|                YES|\n",
      "|Code Enforcement ...|Code Enforcement ...|  DSD/Code Enforcement|                YES|\n",
      "|Code Enforcement ...|                null|  DSD/Code Enforcement|                YES|\n",
      "|   Dangerous Premise|Code Enforcement ...|  DSD/Code Enforcement|                YES|\n",
      "|Dangerous Premise...|Code Enforcement ...|  DSD/Code Enforcement|                YES|\n",
      "|Director's Office...|Trans & Cap Impro...|  Trans & Cap Impro...|                YES|\n",
      "+--------------------+--------------------+----------------------+-------------------+\n",
      "only showing top 10 rows\n",
      "\n"
     ]
    }
   ],
   "source": [
    "dept = spark.read.csv(\"dept.csv\", header=True, inferSchema=True)\n",
    "dept.show(10)"
   ]
  },
  {
   "cell_type": "code",
   "execution_count": 30,
   "metadata": {},
   "outputs": [
    {
     "data": {
      "text/plain": [
       "DataFrame[dept_division: string, case_id: int, case_opened_date: timestamp, case_closed_date: timestamp, case_due_date: timestamp, case_late: boolean, num_days_late: double, case_closed: boolean, service_request_type: string, SLA_days: double, case_status: string, source_id: string, request_address: string, council_district: string, zipcode: string, case_lifetime: int, dept_name: string, standardized_dept_name: string, dept_subject_to_SLA: string]"
      ]
     },
     "execution_count": 30,
     "metadata": {},
     "output_type": "execute_result"
    }
   ],
   "source": [
    "df.join(dept, \"dept_division\", \"left\")"
   ]
  },
  {
   "cell_type": "code",
   "execution_count": 31,
   "metadata": {},
   "outputs": [
    {
     "data": {
      "text/plain": [
       "DataFrame[case_id: int, case_opened_date: timestamp, case_closed_date: timestamp, case_due_date: timestamp, case_late: boolean, num_days_late: double, case_closed: boolean, dept_division: string, service_request_type: string, SLA_days: double, case_status: string, source_id: string, request_address: string, council_district: string, zipcode: string, case_lifetime: int]"
      ]
     },
     "execution_count": 31,
     "metadata": {},
     "output_type": "execute_result"
    }
   ],
   "source": [
    "df"
   ]
  },
  {
   "cell_type": "code",
   "execution_count": 32,
   "metadata": {},
   "outputs": [],
   "source": [
    "# Train / Test Split Using Spark\n",
    "\n",
    "train, test = df.randomSplit([.8, .2])"
   ]
  },
  {
   "cell_type": "code",
   "execution_count": 33,
   "metadata": {},
   "outputs": [
    {
     "data": {
      "text/plain": [
       "673081"
      ]
     },
     "execution_count": 33,
     "metadata": {},
     "output_type": "execute_result"
    }
   ],
   "source": [
    "train.count()"
   ]
  },
  {
   "cell_type": "code",
   "execution_count": 34,
   "metadata": {},
   "outputs": [
    {
     "data": {
      "text/plain": [
       "168623"
      ]
     },
     "execution_count": 34,
     "metadata": {},
     "output_type": "execute_result"
    }
   ],
   "source": [
    "test.count()"
   ]
  },
  {
   "cell_type": "code",
   "execution_count": 35,
   "metadata": {},
   "outputs": [],
   "source": [
    "train, validate, test = df.randomSplit([.7, .15, .15], seed=123)"
   ]
  },
  {
   "cell_type": "code",
   "execution_count": 36,
   "metadata": {},
   "outputs": [
    {
     "data": {
      "text/plain": [
       "588665"
      ]
     },
     "execution_count": 36,
     "metadata": {},
     "output_type": "execute_result"
    }
   ],
   "source": [
    "train.count()"
   ]
  },
  {
   "cell_type": "code",
   "execution_count": 37,
   "metadata": {},
   "outputs": [
    {
     "data": {
      "text/plain": [
       "126618"
      ]
     },
     "execution_count": 37,
     "metadata": {},
     "output_type": "execute_result"
    }
   ],
   "source": [
    "validate.count()"
   ]
  },
  {
   "cell_type": "code",
   "execution_count": 38,
   "metadata": {},
   "outputs": [
    {
     "data": {
      "text/plain": [
       "126421"
      ]
     },
     "execution_count": 38,
     "metadata": {},
     "output_type": "execute_result"
    }
   ],
   "source": [
    "test.count()"
   ]
  },
  {
   "cell_type": "code",
   "execution_count": 39,
   "metadata": {},
   "outputs": [
    {
     "name": "stdout",
     "output_type": "stream",
     "text": [
      "841704\n",
      "841704\n"
     ]
    }
   ],
   "source": [
    "# Checking totals\n",
    "\n",
    "total_train_test = 673322 + 168382\n",
    "\n",
    "total_train_validate_test = 588665 + 126618 + 126421\n",
    "\n",
    "print(total_train_test)\n",
    "print(total_train_validate_test)"
   ]
  },
  {
   "cell_type": "markdown",
   "metadata": {},
   "source": [
    "**^^ Cool.  Checks out.**"
   ]
  },
  {
   "cell_type": "markdown",
   "metadata": {},
   "source": [
    "# Exercises\n",
    "\n",
    "## Data Acquisition\n",
    "\n",
    "Read the case, department, and source data into their own spark dataframes.\n",
    "\n",
    "Let's see how writing to the local disk works in spark:\n",
    "\n",
    "- Write the code necessary to store the source data in both csv and json format, store these as sources_csv and sources_json\n",
    "\n",
    "- Inspect your folder structure. What do you notice?\n",
    "\n",
    "- Inspect the data in your dataframes. Are the data types appropriate? Write the code necessary to cast the values to the appropriate types.\n"
   ]
  },
  {
   "cell_type": "code",
   "execution_count": 40,
   "metadata": {},
   "outputs": [],
   "source": [
    "case_df = spark.read.csv(\"case.csv\", inferSchema=True, header=True)"
   ]
  },
  {
   "cell_type": "code",
   "execution_count": 41,
   "metadata": {},
   "outputs": [],
   "source": [
    "dept_df = spark.read.csv(\"dept.csv\", inferSchema=True, header=True)"
   ]
  },
  {
   "cell_type": "code",
   "execution_count": 42,
   "metadata": {},
   "outputs": [],
   "source": [
    "source_df = spark.read.csv(\"source.csv\", inferSchema=True, header=True)"
   ]
  },
  {
   "cell_type": "code",
   "execution_count": 43,
   "metadata": {},
   "outputs": [
    {
     "name": "stdout",
     "output_type": "stream",
     "text": [
      "+---------+----------------+\n",
      "|source_id| source_username|\n",
      "+---------+----------------+\n",
      "|   100137|Merlene Blodgett|\n",
      "|   103582|     Carmen Cura|\n",
      "|   106463| Richard Sanchez|\n",
      "|   119403|  Betty De Hoyos|\n",
      "|   119555|  Socorro Quiara|\n",
      "+---------+----------------+\n",
      "only showing top 5 rows\n",
      "\n"
     ]
    }
   ],
   "source": [
    "source_df.show(5)"
   ]
  },
  {
   "cell_type": "markdown",
   "metadata": {},
   "source": [
    "**^^ Ran case_df and dept_df to make sure they were read in, and they were.**"
   ]
  },
  {
   "cell_type": "code",
   "execution_count": 44,
   "metadata": {},
   "outputs": [],
   "source": [
    "# storing as 'sources.csv'\n",
    "\n",
    "csv_sources = source_df.toPandas().to_csv(\"sources_csv\")"
   ]
  },
  {
   "cell_type": "code",
   "execution_count": 45,
   "metadata": {},
   "outputs": [],
   "source": [
    "# storing as 'sources_json'\n",
    "\n",
    "json_sources = source_df.toPandas().to_json(\"sources_json\")"
   ]
  },
  {
   "cell_type": "markdown",
   "metadata": {},
   "source": [
    "**Inspecting the folder structure, I notice:**\n",
    "\n",
    "- 'sources_csv' is MUCH easier to read naturally, and is already in a sort of table format\n",
    "\n",
    "- 'sources_json' is harder to read, but looks like a dictionary of dictionaries\n"
   ]
  },
  {
   "cell_type": "code",
   "execution_count": 59,
   "metadata": {},
   "outputs": [
    {
     "data": {
      "text/plain": [
       "[Row(_c0=0, source_id='100137', source_username='Merlene Blodgett'),\n",
       " Row(_c0=1, source_id='103582', source_username='Carmen Cura'),\n",
       " Row(_c0=2, source_id='106463', source_username='Richard Sanchez'),\n",
       " Row(_c0=3, source_id='119403', source_username='Betty De Hoyos'),\n",
       " Row(_c0=4, source_id='119555', source_username='Socorro Quiara')]"
      ]
     },
     "execution_count": 59,
     "metadata": {},
     "output_type": "execute_result"
    }
   ],
   "source": [
    "df_csv = spark.read.csv(\"sources_csv\", inferSchema=True, header=True)\n",
    "df_csv.head(5)"
   ]
  },
  {
   "cell_type": "code",
   "execution_count": 60,
   "metadata": {},
   "outputs": [
    {
     "data": {
      "text/plain": [
       "[('_c0', 'int'), ('source_id', 'string'), ('source_username', 'string')]"
      ]
     },
     "execution_count": 60,
     "metadata": {},
     "output_type": "execute_result"
    }
   ],
   "source": [
    "df_csv.dtypes"
   ]
  },
  {
   "cell_type": "code",
   "execution_count": 65,
   "metadata": {},
   "outputs": [
    {
     "data": {
      "text/plain": [
       "[Row(source_id=Row(0='100137', 1='103582', 10='136202', 100='ih24384', 101='jg06389', 102='js12254', 103='js26451', 104='jw10936', 105='lb07325', 106='lb24838', 107='ld04403', 108='lg26383', 109='ls26247', 11='136979', 110='mc21309', 111='me05816', 112='mg26820', 113='mp21218', 114='mp26640', 115='mt13131', 116='mt23152', 117='mt26294', 118='np26458', 119='ns16326', 12='137943', 120='ps01944', 121='rb05270', 122='rs16746', 123='ru26699', 124='sg22264', 125='sg26196', 126='sp26368', 127='ss09159', 128='ss21394', 129='ss26317', 13='138605', 130='sv24848', 131='svcCFlag', 132='svcCRMLS', 133='svcCRMSS', 134='sw26367', 135='ts15690', 136='vb22265', 137='vk26526', 138='yc16753', 139='yh24110', 14='138650', 15='138650', 16='138793', 17='138810', 18='139342', 19='139344', 2='106463', 20='139345', 21='139807', 22='139868', 23='140436', 24='140507', 25='140508', 26='140509', 27='140637', 28='140987', 29='140991', 3='119403', 30='140992', 31='141239', 32='141240', 33='141241', 34='141256', 35='141549', 36='141752', 37='141954', 38='142087', 39='142088', 4='119555', 40='142659', 41='142673', 42='142738', 43='142989', 44='142991', 45='143098', 46='143155', 47='143245', 48='143519', 49='143520', 5='119868', 50='143522', 51='143525', 52='143526', 53='143899', 54='143900', 55='BA10591', 56='BM26349', 57='CG13106', 58='CRM_Listener', 59='CV24443', 6='120752', 60='DB26553', 61='DG26131', 62='DS15677', 63='EP17503', 64='ES26219', 65='FC24472', 66='FR26584', 67='GG26118', 68='JB26299', 69='MB16118', 7='124405', 70='MR25792', 71='MW16328', 72='NO10960', 73='RG26608', 74='RO15681', 75='SG26340', 76='VM16785', 77='WT26601', 78='af26445', 79='ag19640', 8='132408', 80='at25553', 81='ba26670', 82='bn26322', 83='bo26471', 84='cb26321', 85='cc17850', 86='cm26202', 87='co26320', 88='dc12381', 89='dd26293', 9='135723', 90='df03076', 91='dl05036', 92='dl09223', 93='dv26072', 94='ec25702', 95='eg16317', 96='em25724', 97='gg02947', 98='gg14829', 99='gp20685'), source_username=Row(0='Merlene Blodgett', 1='Carmen Cura', 10='Michelle Urrutia', 100='Ismael Herrera', 101='Jeanette Morin', 102='Jarvis Soileau', 103='Jeremy Sifuentes', 104='Jessica West', 105='Linda Bibles', 106='Lexi Bachran', 107='Laura Davis', 108='Laura Garza', 109='Landry Stafford', 11='Leticia Garcia', 110='Chris Castro', 111='Terri Barron', 112='Maribel Garcia', 113='Maria Pena', 114='Marcus Peoples', 115='Mary A Torres', 116='Miranda Tovar', 117='Matthew Trevino', 118='Nina Parker', 119='Norma K. Sotoodeh', 12='Pamela K. Baccus', 120='Paula Stallcup', 121='Rene Bomar', 122='Ronald S. Sorrell', 123='Raul Ubides', 124='Steven Martinez', 125='Samantha Garza', 126='Steven Peterson', 127='Sylvia Sanchez', 128='Shirley Sanchez', 129='Sakib Shaikh', 13='Marisa Ozuna', 130='Salvador Valdez', 131='CityFlag', 132='svcCRMLS', 133='svcCRMSS', 134='Samantha Wickwire', 135='Thelma Martinez', 136='Vanessa Burciaga', 137='Vincent Kosub', 138='Yvonne Casias', 139='Yojani Hernandez', 14='Kimberly Green', 15='Kimberly Green-Woods', 16='Guadalupe Rodriguez', 17='Tawona Martin', 18='Jessica Mendoza', 19='Isis Mendoza', 2='Richard Sanchez', 20='Andrea Alvarez', 21='Jerry Robles', 22='James Garcia', 23='Jose Acosta', 24='Beatriz Urbina', 25='San Juanita Villarreal', 26='Renee Key', 27='Andrew Trexler', 28='Melissa Carmona', 29='Elisa Tejeda', 3='Betty De Hoyos', 30='Refugio Campos', 31='Erica Flores', 32='Anastasia Harrison', 33='Latreece Towers', 34='Michelle Lingenfelder', 35='Mariana Rios', 36='Matthew Gilbert', 37='Janelle Lopez', 38='Genese Woisin', 39='Jessica Pina', 4='Socorro Quiara', 40='Marisol Villarreal', 41='Priscilla Tillman', 42='Pamela Boykin', 43='Samantha McLaughlin', 44='Ebony Ruffin', 45='Melanie Lopez', 46='Lisa Lyttle', 47='Samuel Coronado', 48='Julie Cordero', 49='Pascual Melgoza', 5='Michelle San Miguel', 50='Kiara Chavarria', 51='Sabrina Morales', 52='Myrtha Sanchez', 53='Jessica Amezcua', 54='Madilyn Loredo', 55='Blanca Rosa Wilkins', 56='Bianca Maldonado', 57='Christine Gutierrez', 58='CRM_Listener', 59='Chris Villa', 6='Eva T. Kleiber', 60='Danette Brown', 61='Deborah Gunn', 62='Delilah Sanchez', 63='Erika Phillips', 64='Elizabeth Stephens', 65='Frederick Chapa', 66='Frank Ramirez', 67='Gabriela Gonzales', 68='Joseph Bravo', 69='Michelle Bah', 7='Lori Lara', 70='Milee Ray', 71='Maria Woodard', 72='Nadine Olmos', 73='Ryan Garza', 74='Raul Olveda', 75='Sergio Gonzales', 76='Vivian Mendez', 77='William F. Trynoski', 78='Alex Franklin', 79='Andy Greene', 8='Leonard Silva', 80='Andrew Texler', 81='Beau Anderson', 82='Bryan Naylor', 83='Babette Olson', 84='Celeste Brown', 85='Cecilia M. Carmona', 86='Chrissy McCain', 87='Colt Osburn', 88='Danita Mitchell', 89='Debra Dehlinger', 9='Amy Cardenas', 90='Deborah Flores (SWMD)', 91='Debra Lara', 92='Darlene Luna', 93='Don Vasser', 94='Emilie Christian', 95='Edward Gonzalez', 96='Edward Mungia', 97='Georgette Goacher', 98='Gabriel Guzman', 99='George Ponce'))]"
      ]
     },
     "execution_count": 65,
     "metadata": {},
     "output_type": "execute_result"
    }
   ],
   "source": [
    "df_json = spark.read.json(\"sources_json\")\n",
    "df_json.head(5)"
   ]
  },
  {
   "cell_type": "code",
   "execution_count": 66,
   "metadata": {},
   "outputs": [
    {
     "data": {
      "text/plain": [
       "[('source_id',\n",
       "  'struct<0:string,1:string,10:string,100:string,101:string,102:string,103:string,104:string,105:string,106:string,107:string,108:string,109:string,11:string,110:string,111:string,112:string,113:string,114:string,115:string,116:string,117:string,118:string,119:string,12:string,120:string,121:string,122:string,123:string,124:string,125:string,126:string,127:string,128:string,129:string,13:string,130:string,131:string,132:string,133:string,134:string,135:string,136:string,137:string,138:string,139:string,14:string,15:string,16:string,17:string,18:string,19:string,2:string,20:string,21:string,22:string,23:string,24:string,25:string,26:string,27:string,28:string,29:string,3:string,30:string,31:string,32:string,33:string,34:string,35:string,36:string,37:string,38:string,39:string,4:string,40:string,41:string,42:string,43:string,44:string,45:string,46:string,47:string,48:string,49:string,5:string,50:string,51:string,52:string,53:string,54:string,55:string,56:string,57:string,58:string,59:string,6:string,60:string,61:string,62:string,63:string,64:string,65:string,66:string,67:string,68:string,69:string,7:string,70:string,71:string,72:string,73:string,74:string,75:string,76:string,77:string,78:string,79:string,8:string,80:string,81:string,82:string,83:string,84:string,85:string,86:string,87:string,88:string,89:string,9:string,90:string,91:string,92:string,93:string,94:string,95:string,96:string,97:string,98:string,99:string>'),\n",
       " ('source_username',\n",
       "  'struct<0:string,1:string,10:string,100:string,101:string,102:string,103:string,104:string,105:string,106:string,107:string,108:string,109:string,11:string,110:string,111:string,112:string,113:string,114:string,115:string,116:string,117:string,118:string,119:string,12:string,120:string,121:string,122:string,123:string,124:string,125:string,126:string,127:string,128:string,129:string,13:string,130:string,131:string,132:string,133:string,134:string,135:string,136:string,137:string,138:string,139:string,14:string,15:string,16:string,17:string,18:string,19:string,2:string,20:string,21:string,22:string,23:string,24:string,25:string,26:string,27:string,28:string,29:string,3:string,30:string,31:string,32:string,33:string,34:string,35:string,36:string,37:string,38:string,39:string,4:string,40:string,41:string,42:string,43:string,44:string,45:string,46:string,47:string,48:string,49:string,5:string,50:string,51:string,52:string,53:string,54:string,55:string,56:string,57:string,58:string,59:string,6:string,60:string,61:string,62:string,63:string,64:string,65:string,66:string,67:string,68:string,69:string,7:string,70:string,71:string,72:string,73:string,74:string,75:string,76:string,77:string,78:string,79:string,8:string,80:string,81:string,82:string,83:string,84:string,85:string,86:string,87:string,88:string,89:string,9:string,90:string,91:string,92:string,93:string,94:string,95:string,96:string,97:string,98:string,99:string>')]"
      ]
     },
     "execution_count": 66,
     "metadata": {},
     "output_type": "execute_result"
    }
   ],
   "source": [
    "df_json.dtypes"
   ]
  },
  {
   "cell_type": "markdown",
   "metadata": {},
   "source": [
    "**^^ In 'sources_csv,' the index is an integer and the rest of the data is in string format.  In 'sources_json,' all the data is in string format.**"
   ]
  },
  {
   "cell_type": "markdown",
   "metadata": {},
   "source": [
    "## Zach's Data Prep"
   ]
  },
  {
   "cell_type": "code",
   "execution_count": 81,
   "metadata": {},
   "outputs": [
    {
     "ename": "AnalysisException",
     "evalue": "'Path does not exist: file:/Users/DataScience/codeup-data-science/spark/data/dept.csv;'",
     "output_type": "error",
     "traceback": [
      "\u001b[0;31m---------------------------------------------------------------------------\u001b[0m",
      "\u001b[0;31mPy4JJavaError\u001b[0m                             Traceback (most recent call last)",
      "\u001b[0;32m/usr/local/anaconda3/lib/python3.7/site-packages/pyspark/sql/utils.py\u001b[0m in \u001b[0;36mdeco\u001b[0;34m(*a, **kw)\u001b[0m\n\u001b[1;32m     62\u001b[0m         \u001b[0;32mtry\u001b[0m\u001b[0;34m:\u001b[0m\u001b[0;34m\u001b[0m\u001b[0;34m\u001b[0m\u001b[0m\n\u001b[0;32m---> 63\u001b[0;31m             \u001b[0;32mreturn\u001b[0m \u001b[0mf\u001b[0m\u001b[0;34m(\u001b[0m\u001b[0;34m*\u001b[0m\u001b[0ma\u001b[0m\u001b[0;34m,\u001b[0m \u001b[0;34m**\u001b[0m\u001b[0mkw\u001b[0m\u001b[0;34m)\u001b[0m\u001b[0;34m\u001b[0m\u001b[0;34m\u001b[0m\u001b[0m\n\u001b[0m\u001b[1;32m     64\u001b[0m         \u001b[0;32mexcept\u001b[0m \u001b[0mpy4j\u001b[0m\u001b[0;34m.\u001b[0m\u001b[0mprotocol\u001b[0m\u001b[0;34m.\u001b[0m\u001b[0mPy4JJavaError\u001b[0m \u001b[0;32mas\u001b[0m \u001b[0me\u001b[0m\u001b[0;34m:\u001b[0m\u001b[0;34m\u001b[0m\u001b[0;34m\u001b[0m\u001b[0m\n",
      "\u001b[0;32m/usr/local/anaconda3/lib/python3.7/site-packages/py4j/protocol.py\u001b[0m in \u001b[0;36mget_return_value\u001b[0;34m(answer, gateway_client, target_id, name)\u001b[0m\n\u001b[1;32m    327\u001b[0m                     \u001b[0;34m\"An error occurred while calling {0}{1}{2}.\\n\"\u001b[0m\u001b[0;34m.\u001b[0m\u001b[0;34m\u001b[0m\u001b[0;34m\u001b[0m\u001b[0m\n\u001b[0;32m--> 328\u001b[0;31m                     format(target_id, \".\", name), value)\n\u001b[0m\u001b[1;32m    329\u001b[0m             \u001b[0;32melse\u001b[0m\u001b[0;34m:\u001b[0m\u001b[0;34m\u001b[0m\u001b[0;34m\u001b[0m\u001b[0m\n",
      "\u001b[0;31mPy4JJavaError\u001b[0m: An error occurred while calling o966.csv.\n: org.apache.spark.sql.AnalysisException: Path does not exist: file:/Users/DataScience/codeup-data-science/spark/data/dept.csv;\n\tat org.apache.spark.sql.execution.datasources.DataSource$$anonfun$org$apache$spark$sql$execution$datasources$DataSource$$checkAndGlobPathIfNecessary$1.apply(DataSource.scala:558)\n\tat org.apache.spark.sql.execution.datasources.DataSource$$anonfun$org$apache$spark$sql$execution$datasources$DataSource$$checkAndGlobPathIfNecessary$1.apply(DataSource.scala:545)\n\tat scala.collection.TraversableLike$$anonfun$flatMap$1.apply(TraversableLike.scala:241)\n\tat scala.collection.TraversableLike$$anonfun$flatMap$1.apply(TraversableLike.scala:241)\n\tat scala.collection.immutable.List.foreach(List.scala:392)\n\tat scala.collection.TraversableLike$class.flatMap(TraversableLike.scala:241)\n\tat scala.collection.immutable.List.flatMap(List.scala:355)\n\tat org.apache.spark.sql.execution.datasources.DataSource.org$apache$spark$sql$execution$datasources$DataSource$$checkAndGlobPathIfNecessary(DataSource.scala:545)\n\tat org.apache.spark.sql.execution.datasources.DataSource.resolveRelation(DataSource.scala:359)\n\tat org.apache.spark.sql.DataFrameReader.loadV1Source(DataFrameReader.scala:223)\n\tat org.apache.spark.sql.DataFrameReader.load(DataFrameReader.scala:211)\n\tat org.apache.spark.sql.DataFrameReader.csv(DataFrameReader.scala:619)\n\tat sun.reflect.NativeMethodAccessorImpl.invoke0(Native Method)\n\tat sun.reflect.NativeMethodAccessorImpl.invoke(NativeMethodAccessorImpl.java:62)\n\tat sun.reflect.DelegatingMethodAccessorImpl.invoke(DelegatingMethodAccessorImpl.java:43)\n\tat java.lang.reflect.Method.invoke(Method.java:498)\n\tat py4j.reflection.MethodInvoker.invoke(MethodInvoker.java:244)\n\tat py4j.reflection.ReflectionEngine.invoke(ReflectionEngine.java:357)\n\tat py4j.Gateway.invoke(Gateway.java:282)\n\tat py4j.commands.AbstractCommand.invokeMethod(AbstractCommand.java:132)\n\tat py4j.commands.CallCommand.execute(CallCommand.java:79)\n\tat py4j.GatewayConnection.run(GatewayConnection.java:238)\n\tat java.lang.Thread.run(Thread.java:748)\n",
      "\nDuring handling of the above exception, another exception occurred:\n",
      "\u001b[0;31mAnalysisException\u001b[0m                         Traceback (most recent call last)",
      "\u001b[0;32m<ipython-input-81-abfb9cc24acd>\u001b[0m in \u001b[0;36m<module>\u001b[0;34m\u001b[0m\n\u001b[1;32m     30\u001b[0m \u001b[0;34m\u001b[0m\u001b[0m\n\u001b[1;32m     31\u001b[0m \u001b[0;31m# Join departments and sources\u001b[0m\u001b[0;34m\u001b[0m\u001b[0;34m\u001b[0m\u001b[0;34m\u001b[0m\u001b[0m\n\u001b[0;32m---> 32\u001b[0;31m \u001b[0mdepts\u001b[0m \u001b[0;34m=\u001b[0m \u001b[0mspark\u001b[0m\u001b[0;34m.\u001b[0m\u001b[0mread\u001b[0m\u001b[0;34m.\u001b[0m\u001b[0mcsv\u001b[0m\u001b[0;34m(\u001b[0m\u001b[0;34m'data/dept.csv'\u001b[0m\u001b[0;34m,\u001b[0m \u001b[0mheader\u001b[0m\u001b[0;34m=\u001b[0m\u001b[0;32mTrue\u001b[0m\u001b[0;34m,\u001b[0m \u001b[0minferSchema\u001b[0m\u001b[0;34m=\u001b[0m\u001b[0;32mTrue\u001b[0m\u001b[0;34m)\u001b[0m\u001b[0;34m\u001b[0m\u001b[0;34m\u001b[0m\u001b[0m\n\u001b[0m\u001b[1;32m     33\u001b[0m \u001b[0msources\u001b[0m \u001b[0;34m=\u001b[0m \u001b[0mspark\u001b[0m\u001b[0;34m.\u001b[0m\u001b[0mread\u001b[0m\u001b[0;34m.\u001b[0m\u001b[0mcsv\u001b[0m\u001b[0;34m(\u001b[0m\u001b[0;34m'data/source.csv'\u001b[0m\u001b[0;34m,\u001b[0m \u001b[0mheader\u001b[0m\u001b[0;34m=\u001b[0m\u001b[0;32mTrue\u001b[0m\u001b[0;34m,\u001b[0m \u001b[0minferSchema\u001b[0m\u001b[0;34m=\u001b[0m\u001b[0;32mTrue\u001b[0m\u001b[0;34m)\u001b[0m\u001b[0;34m\u001b[0m\u001b[0;34m\u001b[0m\u001b[0m\n\u001b[1;32m     34\u001b[0m \u001b[0;34m\u001b[0m\u001b[0m\n",
      "\u001b[0;32m/usr/local/anaconda3/lib/python3.7/site-packages/pyspark/sql/readwriter.py\u001b[0m in \u001b[0;36mcsv\u001b[0;34m(self, path, schema, sep, encoding, quote, escape, comment, header, inferSchema, ignoreLeadingWhiteSpace, ignoreTrailingWhiteSpace, nullValue, nanValue, positiveInf, negativeInf, dateFormat, timestampFormat, maxColumns, maxCharsPerColumn, maxMalformedLogPerPartition, mode, columnNameOfCorruptRecord, multiLine, charToEscapeQuoteEscaping, samplingRatio, enforceSchema, emptyValue)\u001b[0m\n\u001b[1;32m    474\u001b[0m             \u001b[0mpath\u001b[0m \u001b[0;34m=\u001b[0m \u001b[0;34m[\u001b[0m\u001b[0mpath\u001b[0m\u001b[0;34m]\u001b[0m\u001b[0;34m\u001b[0m\u001b[0;34m\u001b[0m\u001b[0m\n\u001b[1;32m    475\u001b[0m         \u001b[0;32mif\u001b[0m \u001b[0mtype\u001b[0m\u001b[0;34m(\u001b[0m\u001b[0mpath\u001b[0m\u001b[0;34m)\u001b[0m \u001b[0;34m==\u001b[0m \u001b[0mlist\u001b[0m\u001b[0;34m:\u001b[0m\u001b[0;34m\u001b[0m\u001b[0;34m\u001b[0m\u001b[0m\n\u001b[0;32m--> 476\u001b[0;31m             \u001b[0;32mreturn\u001b[0m \u001b[0mself\u001b[0m\u001b[0;34m.\u001b[0m\u001b[0m_df\u001b[0m\u001b[0;34m(\u001b[0m\u001b[0mself\u001b[0m\u001b[0;34m.\u001b[0m\u001b[0m_jreader\u001b[0m\u001b[0;34m.\u001b[0m\u001b[0mcsv\u001b[0m\u001b[0;34m(\u001b[0m\u001b[0mself\u001b[0m\u001b[0;34m.\u001b[0m\u001b[0m_spark\u001b[0m\u001b[0;34m.\u001b[0m\u001b[0m_sc\u001b[0m\u001b[0;34m.\u001b[0m\u001b[0m_jvm\u001b[0m\u001b[0;34m.\u001b[0m\u001b[0mPythonUtils\u001b[0m\u001b[0;34m.\u001b[0m\u001b[0mtoSeq\u001b[0m\u001b[0;34m(\u001b[0m\u001b[0mpath\u001b[0m\u001b[0;34m)\u001b[0m\u001b[0;34m)\u001b[0m\u001b[0;34m)\u001b[0m\u001b[0;34m\u001b[0m\u001b[0;34m\u001b[0m\u001b[0m\n\u001b[0m\u001b[1;32m    477\u001b[0m         \u001b[0;32melif\u001b[0m \u001b[0misinstance\u001b[0m\u001b[0;34m(\u001b[0m\u001b[0mpath\u001b[0m\u001b[0;34m,\u001b[0m \u001b[0mRDD\u001b[0m\u001b[0;34m)\u001b[0m\u001b[0;34m:\u001b[0m\u001b[0;34m\u001b[0m\u001b[0;34m\u001b[0m\u001b[0m\n\u001b[1;32m    478\u001b[0m             \u001b[0;32mdef\u001b[0m \u001b[0mfunc\u001b[0m\u001b[0;34m(\u001b[0m\u001b[0miterator\u001b[0m\u001b[0;34m)\u001b[0m\u001b[0;34m:\u001b[0m\u001b[0;34m\u001b[0m\u001b[0;34m\u001b[0m\u001b[0m\n",
      "\u001b[0;32m/usr/local/anaconda3/lib/python3.7/site-packages/py4j/java_gateway.py\u001b[0m in \u001b[0;36m__call__\u001b[0;34m(self, *args)\u001b[0m\n\u001b[1;32m   1255\u001b[0m         \u001b[0manswer\u001b[0m \u001b[0;34m=\u001b[0m \u001b[0mself\u001b[0m\u001b[0;34m.\u001b[0m\u001b[0mgateway_client\u001b[0m\u001b[0;34m.\u001b[0m\u001b[0msend_command\u001b[0m\u001b[0;34m(\u001b[0m\u001b[0mcommand\u001b[0m\u001b[0;34m)\u001b[0m\u001b[0;34m\u001b[0m\u001b[0;34m\u001b[0m\u001b[0m\n\u001b[1;32m   1256\u001b[0m         return_value = get_return_value(\n\u001b[0;32m-> 1257\u001b[0;31m             answer, self.gateway_client, self.target_id, self.name)\n\u001b[0m\u001b[1;32m   1258\u001b[0m \u001b[0;34m\u001b[0m\u001b[0m\n\u001b[1;32m   1259\u001b[0m         \u001b[0;32mfor\u001b[0m \u001b[0mtemp_arg\u001b[0m \u001b[0;32min\u001b[0m \u001b[0mtemp_args\u001b[0m\u001b[0;34m:\u001b[0m\u001b[0;34m\u001b[0m\u001b[0;34m\u001b[0m\u001b[0m\n",
      "\u001b[0;32m/usr/local/anaconda3/lib/python3.7/site-packages/pyspark/sql/utils.py\u001b[0m in \u001b[0;36mdeco\u001b[0;34m(*a, **kw)\u001b[0m\n\u001b[1;32m     67\u001b[0m                                              e.java_exception.getStackTrace()))\n\u001b[1;32m     68\u001b[0m             \u001b[0;32mif\u001b[0m \u001b[0ms\u001b[0m\u001b[0;34m.\u001b[0m\u001b[0mstartswith\u001b[0m\u001b[0;34m(\u001b[0m\u001b[0;34m'org.apache.spark.sql.AnalysisException: '\u001b[0m\u001b[0;34m)\u001b[0m\u001b[0;34m:\u001b[0m\u001b[0;34m\u001b[0m\u001b[0;34m\u001b[0m\u001b[0m\n\u001b[0;32m---> 69\u001b[0;31m                 \u001b[0;32mraise\u001b[0m \u001b[0mAnalysisException\u001b[0m\u001b[0;34m(\u001b[0m\u001b[0ms\u001b[0m\u001b[0;34m.\u001b[0m\u001b[0msplit\u001b[0m\u001b[0;34m(\u001b[0m\u001b[0;34m': '\u001b[0m\u001b[0;34m,\u001b[0m \u001b[0;36m1\u001b[0m\u001b[0;34m)\u001b[0m\u001b[0;34m[\u001b[0m\u001b[0;36m1\u001b[0m\u001b[0;34m]\u001b[0m\u001b[0;34m,\u001b[0m \u001b[0mstackTrace\u001b[0m\u001b[0;34m)\u001b[0m\u001b[0;34m\u001b[0m\u001b[0;34m\u001b[0m\u001b[0m\n\u001b[0m\u001b[1;32m     70\u001b[0m             \u001b[0;32mif\u001b[0m \u001b[0ms\u001b[0m\u001b[0;34m.\u001b[0m\u001b[0mstartswith\u001b[0m\u001b[0;34m(\u001b[0m\u001b[0;34m'org.apache.spark.sql.catalyst.analysis'\u001b[0m\u001b[0;34m)\u001b[0m\u001b[0;34m:\u001b[0m\u001b[0;34m\u001b[0m\u001b[0;34m\u001b[0m\u001b[0m\n\u001b[1;32m     71\u001b[0m                 \u001b[0;32mraise\u001b[0m \u001b[0mAnalysisException\u001b[0m\u001b[0;34m(\u001b[0m\u001b[0ms\u001b[0m\u001b[0;34m.\u001b[0m\u001b[0msplit\u001b[0m\u001b[0;34m(\u001b[0m\u001b[0;34m': '\u001b[0m\u001b[0;34m,\u001b[0m \u001b[0;36m1\u001b[0m\u001b[0;34m)\u001b[0m\u001b[0;34m[\u001b[0m\u001b[0;36m1\u001b[0m\u001b[0;34m]\u001b[0m\u001b[0;34m,\u001b[0m \u001b[0mstackTrace\u001b[0m\u001b[0;34m)\u001b[0m\u001b[0;34m\u001b[0m\u001b[0;34m\u001b[0m\u001b[0m\n",
      "\u001b[0;31mAnalysisException\u001b[0m: 'Path does not exist: file:/Users/DataScience/codeup-data-science/spark/data/dept.csv;'"
     ]
    }
   ],
   "source": [
    "df = spark.read.csv('case.csv', header=True, inferSchema=True)\n",
    "\n",
    "# Rename column\n",
    "df = df.withColumnRenamed('SLA_due_date', 'case_due_date')\n",
    "\n",
    "# Convert to better data types\n",
    "df = (\n",
    "    df.withColumn('case_late', col('case_late') == 'YES')\n",
    "    .withColumn('case_closed', col('case_closed') == 'YES')\n",
    ")\n",
    "df = df.withColumn('council_district', format_string('%04d', col('council_district')))\n",
    "df = (\n",
    "    df.withColumn('case_opened_date', to_timestamp(col('case_opened_date'), 'M/d/yy H:mm'))\n",
    "    .withColumn('case_closed_date', to_timestamp(col('case_closed_date'), 'M/d/yy H:mm'))\n",
    "    .withColumn('case_due_date', to_timestamp(col('case_due_date'), 'M/d/yy H:mm'))\n",
    ")\n",
    "\n",
    "# Cleanup text data\n",
    "df = df.withColumn('request_address', lower(trim(col('request_address'))))\n",
    "# Extract zipcode\n",
    "df = df.withColumn('zipcode', regexp_extract(col('request_address'), r'\\d+$', 0))\n",
    "\n",
    "# Create a `case_lifetime` feature\n",
    "df = (\n",
    "    df.withColumn('case_age', datediff(current_timestamp(), 'case_opened_date'))\n",
    "    .withColumn('days_to_closed', datediff('case_closed_date', 'case_opened_date'))\n",
    "    .withColumn('case_lifetime', when(col('case_closed'), col('days_to_closed')).otherwise(col('case_age')))\n",
    "    .drop('case_age', 'days_to_closed')\n",
    ")\n",
    "\n",
    "# Join departments and sources\n",
    "depts = spark.read.csv('dept.csv', header=True, inferSchema=True)\n",
    "sources = spark.read.csv('source.csv', header=True, inferSchema=True)\n",
    "\n",
    "df = df.join(depts, 'dept_division', 'left').join(sources, 'source_id', 'left')\n",
    "\n",
    "# # Train Test Split\n",
    "# train, test = df.randomSplit([.8, .2])\n",
    "# train, validate, test = df.randomSplit([.7, .15, .15], seed=123)"
   ]
  },
  {
   "cell_type": "markdown",
   "metadata": {},
   "source": [
    "### 1.) How old is the latest (in terms of days past SLA) currently open issue? How long has the oldest (in terms of days since opened) currently opened issue been open?"
   ]
  },
  {
   "cell_type": "code",
   "execution_count": 68,
   "metadata": {},
   "outputs": [
    {
     "name": "stdout",
     "output_type": "stream",
     "text": [
      "+-------------------+----------------+--------+--------------+-------------+\n",
      "|   case_opened_date|case_closed_date|case_age|days_to_closed|case_lifetime|\n",
      "+-------------------+----------------+--------+--------------+-------------+\n",
      "|2018-01-02 09:39:00|            null|     889|          null|          889|\n",
      "|2018-01-02 10:49:00|            null|     889|          null|          889|\n",
      "|2018-01-02 13:45:00|            null|     889|          null|          889|\n",
      "|2018-01-02 14:09:00|            null|     889|          null|          889|\n",
      "|2018-01-02 14:34:00|            null|     889|          null|          889|\n",
      "|2018-01-02 15:22:00|            null|     889|          null|          889|\n",
      "|2018-01-02 15:58:00|            null|     889|          null|          889|\n",
      "|2018-01-03 08:04:00|            null|     888|          null|          888|\n",
      "|2018-01-03 09:18:00|            null|     888|          null|          888|\n",
      "|2018-01-03 09:26:00|            null|     888|          null|          888|\n",
      "|2018-01-03 09:49:00|            null|     888|          null|          888|\n",
      "|2018-01-03 10:03:00|            null|     888|          null|          888|\n",
      "|2018-01-03 10:51:00|            null|     888|          null|          888|\n",
      "|2018-01-03 11:42:00|            null|     888|          null|          888|\n",
      "|2018-01-03 11:47:00|            null|     888|          null|          888|\n",
      "|2018-01-03 12:35:00|            null|     888|          null|          888|\n",
      "|2018-01-03 14:41:00|            null|     888|          null|          888|\n",
      "|2018-01-03 15:18:00|            null|     888|          null|          888|\n",
      "|2018-01-03 15:37:00|            null|     888|          null|          888|\n",
      "|2018-01-03 15:39:00|            null|     888|          null|          888|\n",
      "+-------------------+----------------+--------+--------------+-------------+\n",
      "only showing top 20 rows\n",
      "\n"
     ]
    }
   ],
   "source": [
    "(\n",
    "    df.withColumn('case_age', datediff(current_timestamp(), 'case_opened_date'))\n",
    "    .withColumn('days_to_closed', datediff('case_closed_date', 'case_opened_date'))\n",
    "    .withColumn('case_lifetime', when(col('case_closed'), col('days_to_closed')).otherwise(col('case_age')))\n",
    "    .filter(~ col('case_closed'))\n",
    "    .select('case_opened_date', 'case_closed_date', 'case_age', 'days_to_closed', 'case_lifetime')\n",
    "    .show()\n",
    ")"
   ]
  },
  {
   "cell_type": "code",
   "execution_count": 74,
   "metadata": {},
   "outputs": [
    {
     "data": {
      "text/plain": [
       "[Row(_c0=0, source_id='100137', source_username='Merlene Blodgett'),\n",
       " Row(_c0=1, source_id='103582', source_username='Carmen Cura'),\n",
       " Row(_c0=2, source_id='106463', source_username='Richard Sanchez'),\n",
       " Row(_c0=3, source_id='119403', source_username='Betty De Hoyos'),\n",
       " Row(_c0=4, source_id='119555', source_username='Socorro Quiara')]"
      ]
     },
     "execution_count": 74,
     "metadata": {},
     "output_type": "execute_result"
    }
   ],
   "source": [
    "df = spark.read.csv(\"sources_csv\", inferSchema=True, header=True)\n",
    "\n",
    "df.head(5)"
   ]
  },
  {
   "cell_type": "markdown",
   "metadata": {},
   "source": [
    "### 2.) How many Stray Animal cases are there?"
   ]
  },
  {
   "cell_type": "code",
   "execution_count": 77,
   "metadata": {},
   "outputs": [
    {
     "data": {
      "text/plain": [
       "[Row(case_id=1014127332, case_opened_date='1/1/18 0:42', case_closed_date='1/1/18 12:29', SLA_due_date='9/26/20 0:42', case_late='NO', num_days_late=-998.5087616000001, case_closed='YES', dept_division='Field Operations', service_request_type='Stray Animal', SLA_days=999.0, case_status='Closed', source_id='svcCRMLS', request_address='2315  EL PASO ST, San Antonio, 78207', council_district=5),\n",
       " Row(case_id=1014127333, case_opened_date='1/1/18 0:46', case_closed_date='1/3/18 8:11', SLA_due_date='1/5/18 8:30', case_late='NO', num_days_late=-2.0126041669999997, case_closed='YES', dept_division='Storm Water', service_request_type='Removal Of Obstruction', SLA_days=4.322222222, case_status='Closed', source_id='svcCRMSS', request_address='2215  GOLIAD RD, San Antonio, 78223', council_district=3),\n",
       " Row(case_id=1014127334, case_opened_date='1/1/18 0:48', case_closed_date='1/2/18 7:57', SLA_due_date='1/5/18 8:30', case_late='NO', num_days_late=-3.022337963, case_closed='YES', dept_division='Storm Water', service_request_type='Removal Of Obstruction', SLA_days=4.320729167, case_status='Closed', source_id='svcCRMSS', request_address='102  PALFREY ST W, San Antonio, 78223', council_district=3),\n",
       " Row(case_id=1014127335, case_opened_date='1/1/18 1:29', case_closed_date='1/2/18 8:13', SLA_due_date='1/17/18 8:30', case_late='NO', num_days_late=-15.01148148, case_closed='YES', dept_division='Code Enforcement', service_request_type='Front Or Side Yard Parking', SLA_days=16.29188657, case_status='Closed', source_id='svcCRMSS', request_address='114  LA GARDE ST, San Antonio, 78223', council_district=3),\n",
       " Row(case_id=1014127336, case_opened_date='1/1/18 1:34', case_closed_date='1/1/18 13:29', SLA_due_date='1/1/18 4:34', case_late='YES', num_days_late=0.37216435200000003, case_closed='YES', dept_division='Field Operations', service_request_type='Animal Cruelty(Critical)', SLA_days=0.125, case_status='Closed', source_id='svcCRMSS', request_address='734  CLEARVIEW DR, San Antonio, 78228', council_district=7)]"
      ]
     },
     "execution_count": 77,
     "metadata": {},
     "output_type": "execute_result"
    }
   ],
   "source": [
    "df_case = spark.read.csv(\"case.csv\", inferSchema=True, header=True)\n",
    "\n",
    "df_case.head(5)"
   ]
  },
  {
   "cell_type": "code",
   "execution_count": 79,
   "metadata": {},
   "outputs": [
    {
     "data": {
      "text/plain": [
       "DataFrame[service_type: bigint, service_type: bigint, service_type: bigint, service_type: bigint, service_type: bigint, service_type: bigint, service_type: bigint, service_type: bigint, service_type: bigint, service_type: bigint, service_type: bigint, service_type: bigint, service_type: bigint, service_type: bigint]"
      ]
     },
     "execution_count": 79,
     "metadata": {},
     "output_type": "execute_result"
    }
   ],
   "source": [
    "from pyspark.sql.functions import col, countDistinct\n",
    "\n",
    "df_case.agg(*(countDistinct(col(\"service_request_type\")).alias(\"service_type\") for c in df_case.columns))"
   ]
  },
  {
   "cell_type": "markdown",
   "metadata": {},
   "source": [
    "### 3.) How many service requests that are assigned to the Field Operations department (dept_division) are not classified as \"Officer Standby\" request type (service_request_type)?"
   ]
  },
  {
   "cell_type": "code",
   "execution_count": null,
   "metadata": {},
   "outputs": [],
   "source": []
  },
  {
   "cell_type": "code",
   "execution_count": null,
   "metadata": {},
   "outputs": [],
   "source": []
  },
  {
   "cell_type": "markdown",
   "metadata": {},
   "source": [
    "### 4.) Convert the council_district column to a string column."
   ]
  },
  {
   "cell_type": "code",
   "execution_count": null,
   "metadata": {},
   "outputs": [],
   "source": []
  },
  {
   "cell_type": "code",
   "execution_count": null,
   "metadata": {},
   "outputs": [],
   "source": []
  },
  {
   "cell_type": "markdown",
   "metadata": {},
   "source": [
    "### 5.) Extract the year from the case_closed_date column."
   ]
  },
  {
   "cell_type": "code",
   "execution_count": null,
   "metadata": {},
   "outputs": [],
   "source": []
  },
  {
   "cell_type": "code",
   "execution_count": null,
   "metadata": {},
   "outputs": [],
   "source": []
  },
  {
   "cell_type": "markdown",
   "metadata": {},
   "source": [
    "### 6.) Convert num_days_late from days to hours in new columns num_hours_late."
   ]
  },
  {
   "cell_type": "code",
   "execution_count": null,
   "metadata": {},
   "outputs": [],
   "source": []
  },
  {
   "cell_type": "code",
   "execution_count": null,
   "metadata": {},
   "outputs": [],
   "source": []
  },
  {
   "cell_type": "markdown",
   "metadata": {},
   "source": [
    "### 7.) Join the case data with the source and department data."
   ]
  },
  {
   "cell_type": "code",
   "execution_count": null,
   "metadata": {},
   "outputs": [],
   "source": []
  },
  {
   "cell_type": "code",
   "execution_count": null,
   "metadata": {},
   "outputs": [],
   "source": []
  },
  {
   "cell_type": "markdown",
   "metadata": {},
   "source": [
    "### 8.) Are there any cases that do not have a request source?"
   ]
  },
  {
   "cell_type": "code",
   "execution_count": null,
   "metadata": {},
   "outputs": [],
   "source": []
  },
  {
   "cell_type": "code",
   "execution_count": null,
   "metadata": {},
   "outputs": [],
   "source": []
  },
  {
   "cell_type": "markdown",
   "metadata": {},
   "source": [
    "### 9.) What are the top 10 service request types in terms of number of requests?"
   ]
  },
  {
   "cell_type": "code",
   "execution_count": null,
   "metadata": {},
   "outputs": [],
   "source": []
  },
  {
   "cell_type": "code",
   "execution_count": null,
   "metadata": {},
   "outputs": [],
   "source": []
  },
  {
   "cell_type": "markdown",
   "metadata": {},
   "source": [
    "### 10.) What are the top 10 service request types in terms of average days late?"
   ]
  },
  {
   "cell_type": "code",
   "execution_count": null,
   "metadata": {},
   "outputs": [],
   "source": []
  },
  {
   "cell_type": "code",
   "execution_count": null,
   "metadata": {},
   "outputs": [],
   "source": []
  },
  {
   "cell_type": "markdown",
   "metadata": {},
   "source": [
    "### 11.) Does number of days late depend on department?"
   ]
  },
  {
   "cell_type": "code",
   "execution_count": null,
   "metadata": {},
   "outputs": [],
   "source": []
  },
  {
   "cell_type": "code",
   "execution_count": null,
   "metadata": {},
   "outputs": [],
   "source": []
  },
  {
   "cell_type": "markdown",
   "metadata": {},
   "source": [
    "### 12.) How do number of days late depend on department and request type?"
   ]
  },
  {
   "cell_type": "code",
   "execution_count": null,
   "metadata": {},
   "outputs": [],
   "source": []
  },
  {
   "cell_type": "code",
   "execution_count": null,
   "metadata": {},
   "outputs": [],
   "source": []
  }
 ],
 "metadata": {
  "kernelspec": {
   "display_name": "Python 3",
   "language": "python",
   "name": "python3"
  },
  "language_info": {
   "codemirror_mode": {
    "name": "ipython",
    "version": 3
   },
   "file_extension": ".py",
   "mimetype": "text/x-python",
   "name": "python",
   "nbconvert_exporter": "python",
   "pygments_lexer": "ipython3",
   "version": "3.7.4"
  }
 },
 "nbformat": 4,
 "nbformat_minor": 2
}
